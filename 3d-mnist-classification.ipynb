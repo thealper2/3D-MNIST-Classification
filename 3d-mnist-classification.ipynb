{
 "cells": [
  {
   "cell_type": "code",
   "execution_count": null,
   "metadata": {
    "_cell_guid": "b1076dfc-b9ad-4769-8c92-a6c4dae69d19",
    "_kg_hide-output": true,
    "_uuid": "8f2839f25d086af736a60e9eeb907d3b93b6e0e5"
   },
   "outputs": [],
   "source": [
    "# This Python 3 environment comes with many helpful analytics libraries installed\n",
    "# It is defined by the kaggle/python Docker image: https://github.com/kaggle/docker-python\n",
    "# For example, here's several helpful packages to load\n",
    "\n",
    "import numpy as np # linear algebra\n",
    "import pandas as pd # data processing, CSV file I/O (e.g. pd.read_csv)\n",
    "\n",
    "# Input data files are available in the read-only \"../input/\" directory\n",
    "# For example, running this (by clicking run or pressing Shift+Enter) will list all files under the input directory\n",
    "\n",
    "import os\n",
    "for dirname, _, filenames in os.walk('/kaggle/input'):\n",
    "    for filename in filenames:\n",
    "        print(os.path.join(dirname, filename))\n",
    "\n",
    "# You can write up to 20GB to the current directory (/kaggle/working/) that gets preserved as output when you create a version using \"Save & Run All\" \n",
    "# You can also write temporary files to /kaggle/temp/, but they won't be saved outside of the current session"
   ]
  },
  {
   "cell_type": "markdown",
   "metadata": {},
   "source": [
    "# Import Libraries"
   ]
  },
  {
   "cell_type": "code",
   "execution_count": null,
   "metadata": {},
   "outputs": [],
   "source": [
    "import os\n",
    "os.environ[\"TF_CPP_MIN_LOG_LEVEL\"] = \"3\"\n",
    "\n",
    "import h5py\n",
    "import random\n",
    "import numpy as np\n",
    "import pandas as pd\n",
    "\n",
    "import matplotlib.pyplot as plt\n",
    "import plotly.graph_objs as go\n",
    "import plotly.express as ge\n",
    "\n",
    "import tqdm\n",
    "import io\n",
    "\n",
    "import tensorflow as tf\n",
    "import tensorflow.keras.backend as K\n",
    "from tensorflow.keras import layers, models, optimizers, losses\n",
    "from tensorflow.keras.utils import to_categorical, plot_model\n",
    "from tensorflow.keras.callbacks import ReduceLROnPlateau, EarlyStopping\n",
    "\n",
    "from mlxtend.plotting import plot_confusion_matrix\n",
    "from sklearn.metrics import roc_curve, auc, classification_report, confusion_matrix\n",
    "from sklearn.metrics import accuracy_score, f1_score, precision_score, recall_score, roc_auc_score\n",
    "\n",
    "from sklearn.preprocessing import LabelEncoder\n",
    "from sklearn.model_selection import train_test_split"
   ]
  },
  {
   "cell_type": "markdown",
   "metadata": {},
   "source": [
    "# Load Data"
   ]
  },
  {
   "cell_type": "code",
   "execution_count": null,
   "metadata": {},
   "outputs": [],
   "source": [
    "with h5py.File(\"/kaggle/input/3d-mnist/full_dataset_vectors.h5\", \"r\") as df:\n",
    "    X_train, X_test = df[\"X_train\"][:], df[\"X_test\"][:]\n",
    "    y_train, y_test = df[\"y_train\"][:], df[\"y_test\"][:]"
   ]
  },
  {
   "cell_type": "code",
   "execution_count": null,
   "metadata": {},
   "outputs": [],
   "source": [
    "print(\"X_train shape:\", X_train.shape)\n",
    "print(\"y_train shape:\", y_train.shape)\n",
    "print()\n",
    "print(\"X_test shape:\", X_test.shape)\n",
    "print(\"y_test shape:\", y_test.shape)"
   ]
  },
  {
   "cell_type": "markdown",
   "metadata": {},
   "source": [
    "# Visualization"
   ]
  },
  {
   "cell_type": "code",
   "execution_count": null,
   "metadata": {},
   "outputs": [],
   "source": [
    "with h5py.File(\"/kaggle/input/3d-mnist/train_point_clouds.h5\", \"r\") as points:\n",
    "    digits = []\n",
    "    for i in range(25):\n",
    "        digit = (points[str(i)][\"img\"][:], points[str(i)][\"points\"][:], points[str(i)].attrs[\"label\"])\n",
    "        digits.append(digit)"
   ]
  },
  {
   "cell_type": "code",
   "execution_count": null,
   "metadata": {},
   "outputs": [],
   "source": [
    "plot_idx = random.randint(0, 26)\n",
    "x = [digit[0] for digit in digits[plot_idx][1]]\n",
    "y = [digit[1] for digit in digits[plot_idx][1]]\n",
    "z = [digit[2] for digit in digits[plot_idx][1]]\n",
    "\n",
    "fig = go.Figure(data = go.Scatter3d(\n",
    "    x=x, y=y, z=z, \n",
    "    mode='markers', \n",
    "    marker=dict(size=20, color=z, colorscale='Gray')), \n",
    "    layout=go.Layout(\n",
    "        height=800, \n",
    "        width=800, \n",
    "        title= \"Digit: \" + str(digits[plot_idx][2]))\n",
    "    )\n",
    "\n",
    "fig.show()"
   ]
  },
  {
   "cell_type": "markdown",
   "metadata": {},
   "source": [
    "# Preprocess"
   ]
  },
  {
   "cell_type": "code",
   "execution_count": null,
   "metadata": {},
   "outputs": [],
   "source": [
    "scalar_map = plt.cm.ScalarMappable(cmap = \"Oranges\")"
   ]
  },
  {
   "cell_type": "code",
   "execution_count": null,
   "metadata": {},
   "outputs": [],
   "source": [
    "X_train_new = np.ndarray((X_train.shape[0], 4096, 3))\n",
    "\n",
    "for i in range(X_train.shape[0]):\n",
    "    X_train_new[i] = scalar_map.to_rgba(X_train[i])[:, :-1]"
   ]
  },
  {
   "cell_type": "code",
   "execution_count": null,
   "metadata": {},
   "outputs": [],
   "source": [
    "X_test_new = np.ndarray((X_test.shape[0], 4096, 3))\n",
    "\n",
    "for i in range(X_test.shape[0]):\n",
    "    X_test_new[i] = scalar_map.to_rgba(X_test[i])[:, :-1]"
   ]
  },
  {
   "cell_type": "code",
   "execution_count": null,
   "metadata": {},
   "outputs": [],
   "source": [
    "X_train_new = X_train_new.reshape(X_train.shape[0], 16, 16, 16, 3)\n",
    "X_test_new = X_test_new.reshape(X_test.shape[0], 16, 16, 16, 3)"
   ]
  },
  {
   "cell_type": "code",
   "execution_count": null,
   "metadata": {},
   "outputs": [],
   "source": [
    "y_train_new = to_categorical(y_train, 10)\n",
    "y_test_new = to_categorical(y_test, 10)"
   ]
  },
  {
   "cell_type": "markdown",
   "metadata": {},
   "source": [
    "# Model"
   ]
  },
  {
   "cell_type": "code",
   "execution_count": null,
   "metadata": {},
   "outputs": [],
   "source": [
    "input_layer = layers.Input((16, 16, 16, 3))\n",
    "\n",
    "conv1 = layers.Conv3D(filters=32, kernel_size=3, activation=\"relu\")(input_layer)\n",
    "conv2 = layers.Conv3D(filters=64, kernel_size=3, activation=\"relu\")(conv1)\n",
    "maxp1 = layers.MaxPool3D(pool_size=2)(conv2)\n",
    "batchnorm1 = layers.BatchNormalization()(maxp1)\n",
    "\n",
    "conv3 = layers.Conv3D(filters=128, kernel_size=3, activation=\"relu\")(batchnorm1)\n",
    "conv4 = layers.Conv3D(filters=256, kernel_size=3, activation=\"relu\")(conv3)\n",
    "maxp2 = layers.MaxPool3D(pool_size=2)(conv4)\n",
    "batchnorm2 = layers.BatchNormalization()(maxp2)\n",
    "\n",
    "flat1 = layers.Flatten()(batchnorm2)\n",
    "dense1 = layers.Dense(units=512, activation=\"relu\")(flat1)\n",
    "drop1 = layers.Dropout(0.2)(dense1)\n",
    "dense2 = layers.Dense(units=256, activation=\"relu\")(drop1)\n",
    "drop2 = layers.Dropout(0.2)(dense2)\n",
    "\n",
    "output_layer = layers.Dense(units=10, activation=\"softmax\")(drop2)\n",
    "\n",
    "model = models.Model(input_layer, output_layer)"
   ]
  },
  {
   "cell_type": "code",
   "execution_count": null,
   "metadata": {},
   "outputs": [],
   "source": [
    "model.compile(loss=\"categorical_crossentropy\", optimizer=optimizers.Adam(learning_rate=0.0001), metrics=['accuracy'])"
   ]
  },
  {
   "cell_type": "code",
   "execution_count": null,
   "metadata": {},
   "outputs": [],
   "source": [
    "plot_model(model, show_layer_names=True, show_shapes=True)"
   ]
  },
  {
   "cell_type": "markdown",
   "metadata": {},
   "source": [
    "# Train"
   ]
  },
  {
   "cell_type": "code",
   "execution_count": null,
   "metadata": {
    "_kg_hide-output": true
   },
   "outputs": [],
   "source": [
    "history = model.fit(X_train_new, y_train_new, validation_split=0.1, batch_size=128, epochs=50)"
   ]
  },
  {
   "cell_type": "code",
   "execution_count": null,
   "metadata": {},
   "outputs": [],
   "source": [
    "test_loss, test_acc = model.evaluate(X_test_new, y_test_new, verbose=0)\n",
    "print(f\"Test Loss: {test_loss:.5f}\")\n",
    "print(f\"Test Accuracy: {test_acc:.5f}\")"
   ]
  },
  {
   "cell_type": "markdown",
   "metadata": {},
   "source": [
    "# Results"
   ]
  },
  {
   "cell_type": "code",
   "execution_count": null,
   "metadata": {},
   "outputs": [],
   "source": [
    "history_df = pd.DataFrame(history.history)\n",
    "history_df.head()"
   ]
  },
  {
   "cell_type": "code",
   "execution_count": null,
   "metadata": {},
   "outputs": [],
   "source": [
    "plt.figure()\n",
    "plt.plot(history.history[\"loss\"])\n",
    "plt.plot(history.history[\"val_loss\"])\n",
    "plt.xlabel(\"Epoch\")\n",
    "plt.ylabel(\"Loss\")\n",
    "plt.legend([\"train\", \"valid\"])\n",
    "plt.title(\"Loss Curve\")\n",
    "plt.show()"
   ]
  },
  {
   "cell_type": "code",
   "execution_count": null,
   "metadata": {},
   "outputs": [],
   "source": [
    "plt.figure()\n",
    "plt.plot(history.history[\"accuracy\"])\n",
    "plt.plot(history.history[\"val_accuracy\"])\n",
    "plt.xlabel(\"Epoch\")\n",
    "plt.ylabel(\"Accuracy\")\n",
    "plt.legend([\"train\", \"valid\"])\n",
    "plt.title(\"Accuracy Curve\")\n",
    "plt.show()"
   ]
  },
  {
   "cell_type": "markdown",
   "metadata": {},
   "source": [
    "# Test"
   ]
  },
  {
   "cell_type": "code",
   "execution_count": null,
   "metadata": {},
   "outputs": [],
   "source": [
    "preds = model.predict(X_test_new, verbose=0)\n",
    "model_predictions = np.argmax(preds, axis=1)\n",
    "model_predictions"
   ]
  },
  {
   "cell_type": "code",
   "execution_count": null,
   "metadata": {},
   "outputs": [],
   "source": [
    "actual_labels = np.argmax(y_test_new, axis=1)\n",
    "actual_labels"
   ]
  },
  {
   "cell_type": "code",
   "execution_count": null,
   "metadata": {},
   "outputs": [],
   "source": [
    "model_precision_score = precision_score(actual_labels, model_predictions, average=\"weighted\")\n",
    "model_f1_score = f1_score(actual_labels, model_predictions, average=\"weighted\")\n",
    "model_recall_score = recall_score(actual_labels, model_predictions, average=\"weighted\")\n",
    "model_accuracy_score = accuracy_score(actual_labels, model_predictions)\n",
    "\n",
    "print(f\"Precision Score = {model_precision_score * 100:.2f}%\")\n",
    "print(f\"F1 Score = {model_f1_score * 100:.2f}%\")\n",
    "print(f\"Recall Score = {model_recall_score * 100:.2f}%\")\n",
    "print(f\"Accuracy Score = {model_accuracy_score * 100:.2f}%\")"
   ]
  },
  {
   "cell_type": "code",
   "execution_count": null,
   "metadata": {},
   "outputs": [],
   "source": [
    "print(classification_report(actual_labels, model_predictions))"
   ]
  },
  {
   "cell_type": "code",
   "execution_count": null,
   "metadata": {},
   "outputs": [],
   "source": [
    "cm = confusion_matrix(actual_labels, model_predictions)\n",
    "fig, ax = plot_confusion_matrix(conf_mat=cm, show_absolute=True, show_normed=True, colorbar=True, class_names=np.arange(0, 10, 1), figsize=(10, 10))\n",
    "plt.title('Confusion Matrix')\n",
    "plt.show()"
   ]
  },
  {
   "cell_type": "code",
   "execution_count": null,
   "metadata": {},
   "outputs": [],
   "source": []
  }
 ],
 "metadata": {
  "kernelspec": {
   "display_name": "Python 3 (ipykernel)",
   "language": "python",
   "name": "python3"
  },
  "language_info": {
   "codemirror_mode": {
    "name": "ipython",
    "version": 3
   },
   "file_extension": ".py",
   "mimetype": "text/x-python",
   "name": "python",
   "nbconvert_exporter": "python",
   "pygments_lexer": "ipython3",
   "version": "3.10.12"
  }
 },
 "nbformat": 4,
 "nbformat_minor": 4
}
